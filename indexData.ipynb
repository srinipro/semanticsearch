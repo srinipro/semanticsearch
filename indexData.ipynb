import pandas as pd
df = pd.read_csv("myntra_products_catalog.csv").loc[1:2]
df.head()
